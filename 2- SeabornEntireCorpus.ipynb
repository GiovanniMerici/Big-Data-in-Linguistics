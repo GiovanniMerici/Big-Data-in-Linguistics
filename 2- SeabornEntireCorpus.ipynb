{
  "cells": [
    {
      "cell_type": "markdown",
      "metadata": {
        "id": "view-in-github",
        "colab_type": "text"
      },
      "source": [
        "<a href=\"https://colab.research.google.com/github/GiovanniMerici/Big-Data-in-Linguistics/blob/Memoir-specific-code/SeabornEntireCorpus.ipynb\" target=\"_parent\"><img src=\"https://colab.research.google.com/assets/colab-badge.svg\" alt=\"Open In Colab\"/></a>"
      ]
    },
    {
      "cell_type": "markdown",
      "source": [
        "IMPORT OF LIBRARIES"
      ],
      "metadata": {
        "id": "dNu9E9vx9gZc"
      }
    },
    {
      "cell_type": "code",
      "execution_count": null,
      "metadata": {
        "id": "peqDglbFuBgh"
      },
      "outputs": [],
      "source": [
        "import pandas as pd\n",
        "import numpy as np\n",
        "import matplotlib.pyplot as plt\n",
        "import seaborn as sns\n",
        "from google.colab import files\n",
        "sns.set_theme(font_scale=40)\n",
        "sns.set_color_codes()\n",
        "from google.colab import drive\n",
        "drive.mount('/content/drive')"
      ]
    },
    {
      "cell_type": "markdown",
      "source": [
        "IMPORT OF DATAFRAMES"
      ],
      "metadata": {
        "id": "Ymrrnrbv9qNs"
      }
    },
    {
      "cell_type": "code",
      "execution_count": null,
      "metadata": {
        "id": "2wCV2nhZumV7"
      },
      "outputs": [],
      "source": [
        "#ELEMENT PREPOSITIONNEL \n",
        "dfFRpo = pd.read_excel ('FRANTEXTpourque.xlsx') #darkmagenta, pink\n",
        "dfBFMpo = pd.read_excel ('BFMpourque.xlsx')\n",
        "dfFRpa = pd.read_excel ('FRANTEXTparceque.xlsx') #darkblue, aquamarine\n",
        "dfBFMpa = pd.read_excel ('BFMparceque.xlsx')\n",
        "\n",
        "#ELEMENT ADVERBIAL \n",
        "dfBFMta = pd.read_excel('BFMTandisQue.xlsx') #limegreen,greenyellow\n",
        "dfFRta = pd.read_excel ('FRANTEXTTandisQue.xlsx')\n",
        "dfBFMau = pd.read_excel ('BFMAussitotQue.xlsx') #lawngreen,aqua\n",
        "dfFRau = pd.read_excel ('FRANTEXTAussitotQue.xlsx')\n",
        "\n",
        "#ELEMENT NOMINAL\n",
        "dfBFMco = pd.read_excel('BFMAConditionQue.xlsx') #darkred, lightsalmon\n",
        "dfFRco = pd.read_excel ('FRANTEXTAConditionQue.xlsx')\n",
        "dfBFMme = pd.read_excel ('BFMAMesureQue.xlsx') #red, peachpuff\n",
        "dfFRme = pd.read_excel ('FRANTEXTAMesureQue.xlsx') \n",
        "\n",
        "#ELEMENT PARTICIPIAL\n",
        "dfBFMmo = pd.read_excel('BFMMoyennantQue.xlsx') #yellow, orangered\n",
        "dfFRmo = pd.read_excel ('FRANTEXTMoyennantQue.xlsx')\n",
        "dfFRat = pd.read_excel ('FRANTEXTAttenduQue.xlsx') #orange, gold"
      ]
    },
    {
      "cell_type": "markdown",
      "source": [
        "GRAPHS FOR REPARTITION OF DATA"
      ],
      "metadata": {
        "id": "PKidSMSV9vfL"
      }
    },
    {
      "cell_type": "code",
      "execution_count": null,
      "metadata": {
        "id": "zGLV78grutGI"
      },
      "outputs": [],
      "source": [
        "sns.set(rc={'figure.figsize':(30,20), 'grid.color':'black', 'axes.facecolor':'white', 'figure.facecolor':'lightgrey', \"figure.dpi\":200, 'savefig.dpi':800})\n",
        "\n",
        "plt.subplot(2,2,1)\n",
        "sns.boxplot(dfBFMta['Date'], color='limegreen')\n",
        "sns.stripplot(dfBFMta['Date'], marker=\"D\", alpha=0.3, color=\"greenyellow\", jitter=0.33, linewidth=1)\n",
        "plt.xlabel('Date', fontsize=15)\n",
        "plt.xticks((np.arange(1100,1800,50)), fontsize=15)\n",
        "plt.xlim(1100,1800)\n",
        "\n",
        "plt.subplot(2,2,3)\n",
        "sns.boxplot(dfFRta['Date'], color='limegreen')\n",
        "sns.stripplot(dfFRta['Date'], marker=\"D\", alpha=0.3, color=\"greenyellow\", jitter=0.33, linewidth=1)\n",
        "plt.xlabel('Date', fontsize=15)\n",
        "plt.xticks((np.arange(1100,1800,50)), fontsize=15)\n",
        "plt.xlim(1100,1800)\n",
        "\n",
        "plt.subplot(2,2,2)\n",
        "sns.histplot(dfBFMta['Date'], color='limegreen')\n",
        "plt.legend(labels=[\"Répartition de 'tandis que' BFM\"], borderpad=1, shadow=True, fancybox=True, ncol=1, title =\"Légende\", fontsize = '12', title_fontsize = \"12\", loc = 2, bbox_to_anchor = (0,1))\n",
        "sns.rugplot(dfBFMta['Date'], color=\"greenyellow\")\n",
        "plt.xlabel('Date', fontsize=15)\n",
        "plt.ylabel('Fréquence en nombre absolu', fontsize=15)\n",
        "plt.xticks((np.arange(1100,1800,50)), fontsize=15)\n",
        "plt.yticks((np.arange(0,800,100)), fontsize=15)\n",
        "plt.xlim(1100,1800)\n",
        "plt.ylim(0,800)\n",
        "\n",
        "plt.subplot(2,2,4)\n",
        "sns.histplot(dfFRta['Date'], color='limegreen')\n",
        "plt.legend(labels=[\"Répartition de 'tandis que' Frantext\"], borderpad=1, shadow=True, fancybox=True, ncol=1, title =\"Légende\", fontsize =\"12\", title_fontsize = \"12\", loc = 2, bbox_to_anchor = (0,1))\n",
        "sns.rugplot(dfFRta['Date'], color=\"greenyellow\")\n",
        "plt.xlabel('Date', fontsize=15)\n",
        "plt.ylabel('Fréquence en nombre absolu', fontsize=15)\n",
        "plt.xticks((np.arange(1100,1800,50)), fontsize=15)\n",
        "plt.yticks((np.arange(0,800,100)), fontsize=15)\n",
        "plt.xlim(1100,1800)\n",
        "plt.ylim(0,800)"
      ]
    },
    {
      "cell_type": "code",
      "source": [
        "sns.set(rc={'figure.figsize':(15,5), 'grid.color':'black', 'axes.facecolor':'white', 'figure.facecolor':'lightgrey', \"figure.dpi\":200, 'savefig.dpi':800})\n",
        "\n",
        "\n",
        "plt.subplot(1,2,1)\n",
        "sns.boxplot(dfFRat['Date'], color='orange')\n",
        "sns.stripplot(dfFRat['Date'], marker=\"D\", alpha=0.3, color=\"gold\", jitter=0.33, linewidth=1)\n",
        "plt.xlabel('Date', fontsize=7.5)\n",
        "plt.xticks((np.arange(1100,1800,50)), fontsize=7.5)\n",
        "plt.xlim(1100,1800)\n",
        "\n",
        "plt.subplot(1,2,2)\n",
        "sns.histplot(dfFRat['Date'], color='orange')\n",
        "plt.legend(labels=[\"Répartition de 'attendu que' Frantext\"], borderpad=1, shadow=True, fancybox=True, ncol=1, title =\"Légende\", fontsize =\"6\", title_fontsize = \"6\", loc = 2, bbox_to_anchor = (0,1))\n",
        "sns.rugplot(dfFRat['Date'], color=\"gold\")\n",
        "plt.xlabel('Date', fontsize=7.5)\n",
        "plt.ylabel('Fréquence en nombre absolu', fontsize=7.5)\n",
        "plt.xticks((np.arange(1100,1800,50)), fontsize=7.5)\n",
        "plt.yticks((np.arange(0,220,20)), fontsize=7.5)\n",
        "plt.xlim(1100,1800)\n",
        "plt.ylim(0,220)"
      ],
      "metadata": {
        "id": "QhNyIW2E9CCj"
      },
      "execution_count": null,
      "outputs": []
    },
    {
      "cell_type": "markdown",
      "source": [
        "GRAPHS FOR EVOLUTION"
      ],
      "metadata": {
        "id": "dvOniMHQ9yxe"
      }
    },
    {
      "cell_type": "code",
      "execution_count": null,
      "metadata": {
        "id": "mkNSIX5ZAPI5"
      },
      "outputs": [],
      "source": [
        "sns.set(rc={'figure.figsize':(30,20), 'grid.color':'black', 'axes.facecolor':'white', 'figure.facecolor':'lightgrey', \"figure.dpi\":200, 'savefig.dpi':800})\n",
        "\n",
        "plt.subplot(3,1,1)\n",
        "sns.distplot(dfBFMco['Date'], color='darkred', kde_kws={\"linestyle\":\"--\"}, hist_kws={\"linestyle\":\"--\", 'edgecolor':'black'})\n",
        "plt.legend(labels=[\"Evolution de 'à condition que' BFM\"], borderpad=1, shadow=True, fancybox=True, ncol=1, title =\"Légende\", fontsize = '12', title_fontsize = \"12\", loc = 2, bbox_to_anchor = (0,1))\n",
        "sns.rugplot(dfBFMco['Date'], color=\"lightsalmon\", linestyle=\"--\")\n",
        "plt.xlabel('Date', fontsize=15)\n",
        "plt.ylabel('Densité', fontsize=15)\n",
        "plt.xticks((np.arange(1100,1800,50)), fontsize=15)\n",
        "plt.yticks((np.arange(0,1.2,0.2)), fontsize=15)\n",
        "plt.xlim(1100,1800)\n",
        "plt.ylim(0,1.2)\n",
        "\n",
        "plt.subplot(3,1,2)\n",
        "sns.distplot(dfFRco['Date'], color='darkred')\n",
        "plt.legend(labels=[\"Evolution de 'à condition que' Frantext\"], borderpad=1, shadow=True, fancybox=True, ncol=1, title =\"Légende\", fontsize = '12', title_fontsize = \"12\", loc = 2, bbox_to_anchor = (0,1))\n",
        "sns.rugplot(dfFRco['Date'], color=\"lightsalmon\")\n",
        "plt.xlabel('Date', fontsize=15)\n",
        "plt.ylabel('Densité', fontsize=15)\n",
        "plt.xticks((np.arange(1100,1800,50)), fontsize=15)\n",
        "plt.yticks((np.arange(0,0.014,0.002)), fontsize=15)\n",
        "plt.xlim(1100,1800)\n",
        "plt.ylim(0,0.014)\n",
        "\n",
        "plt.subplot(3,1,3)\n",
        "sns.distplot(dfBFMme['Date'], color='red', kde_kws={\"linestyle\":\"--\"}, hist_kws={\"linestyle\":\"--\", 'edgecolor':'black'})\n",
        "sns.distplot(dfFRme['Date'], color='red')\n",
        "plt.legend(labels=[\"Evolution de 'à mesure que' BFM\", \"Evolution de 'à mesure que' Frantext\"], borderpad=1, shadow=True, fancybox=True, ncol=1, title =\"Légende\", fontsize = '12', title_fontsize = \"12\", loc = 2, bbox_to_anchor = (0,1))\n",
        "sns.rugplot(dfBFMme['Date'], color=\"peachpuff\", linestyle=\"--\")\n",
        "sns.rugplot(dfFRme['Date'], color=\"peachpuff\")\n",
        "plt.xlabel('Date', fontsize=15)\n",
        "plt.ylabel('Densité', fontsize=15)\n",
        "plt.xticks((np.arange(1100,1800,50)), fontsize=15)\n",
        "plt.yticks((np.arange(0,0.014,0.002)), fontsize=15)\n",
        "plt.xlim(1100,1800)\n",
        "plt.ylim(0,0.014)"
      ]
    },
    {
      "cell_type": "code",
      "source": [
        "sns.set(rc={'figure.figsize':(30,20), 'grid.color':'black', 'axes.facecolor':'white', 'figure.facecolor':'lightgrey', \"figure.dpi\":200, 'savefig.dpi':800})\n",
        "\n",
        "plt.subplot(3,1,1)\n",
        "sns.distplot(dfBFMta['Date'], color='limegreen', kde_kws={\"linestyle\":\"--\"}, hist_kws={\"linestyle\":\"--\", 'edgecolor':'black'})\n",
        "sns.distplot(dfFRta['Date'], color='limegreen')\n",
        "plt.legend(labels=[\"Evolution de 'tandis que' BFM\", \"Evolution de 'tandis que' Frantext\"], borderpad=1, shadow=True, fancybox=True, ncol=1, title =\"Légende\", fontsize = '12', title_fontsize = \"12\", loc = 2, bbox_to_anchor = (0,1))\n",
        "sns.rugplot(dfBFMta['Date'], color=\"greenyellow\", linestyle=\"--\")\n",
        "sns.rugplot(dfFRta['Date'], color=\"greenyellow\")\n",
        "plt.xlabel('Date', fontsize=15)\n",
        "plt.ylabel('Densité', fontsize=15)\n",
        "plt.xticks((np.arange(1100,1800,50)), fontsize=15)\n",
        "plt.yticks((np.arange(0,0.025,0.005)), fontsize=15)\n",
        "plt.xlim(1100,1800)\n",
        "plt.ylim(0,0.025)\n",
        "\n",
        "plt.subplot(3,1,2)\n",
        "sns.distplot(dfFRau['Date'], color='lawngreen')\n",
        "plt.legend(labels=[\"Evolution de 'aussitôt que' Frantext\"], borderpad=1, shadow=True, fancybox=True, ncol=1, title =\"Légende\", fontsize = '12', title_fontsize = \"12\", loc = 2, bbox_to_anchor = (0,1))\n",
        "sns.rugplot(dfFRau['Date'], color=\"aqua\")\n",
        "plt.xlabel('Date', fontsize=15)\n",
        "plt.ylabel('Densité', fontsize=15)\n",
        "plt.xticks((np.arange(1100,1800,50)), fontsize=15)\n",
        "plt.yticks((np.arange(0,0.025,0.005)), fontsize=15)\n",
        "plt.xlim(1100,1800)\n",
        "plt.ylim(0,0.025)\n",
        "\n",
        "plt.subplot(3,1,3)\n",
        "sns.distplot(dfBFMau['Date'], color='lawngreen', kde_kws={\"linestyle\":\"--\"}, hist_kws={\"linestyle\":\"--\", 'edgecolor':'black'})\n",
        "plt.legend(labels=[\"Evolution de 'aussitôt que' BFM\"], borderpad=1, shadow=True, fancybox=True, ncol=1, title =\"Légende\", fontsize = '12', title_fontsize = \"12\", loc = 2, bbox_to_anchor = (0,1))\n",
        "sns.rugplot(dfBFMau['Date'], color=\"aqua\", linestyle=\"--\")\n",
        "plt.xlabel('Date', fontsize=15)\n",
        "plt.ylabel('Densité', fontsize=15)\n",
        "plt.xticks((np.arange(1100,1800,50)), fontsize=15)\n",
        "plt.yticks((np.arange(0,2.5,0.5)), fontsize=15)\n",
        "plt.xlim(1100,1800)\n",
        "plt.ylim(0,2.5)"
      ],
      "metadata": {
        "id": "SLyE1Y859Dtr"
      },
      "execution_count": null,
      "outputs": []
    },
    {
      "cell_type": "markdown",
      "source": [
        "COMPARISON OF ALL DATAFRAMES"
      ],
      "metadata": {
        "id": "e7Pa1bGC9SbZ"
      }
    },
    {
      "cell_type": "markdown",
      "source": [
        "BY TYPE OF FORMATION"
      ],
      "metadata": {
        "id": "J38dqkg092po"
      }
    },
    {
      "cell_type": "code",
      "source": [
        "#RESET INDEX ON DFS\n",
        "dfBFMpo1 = dfBFMpo.reset_index()\n",
        "dfBFMpa1 = dfBFMpa.reset_index()\n",
        "\n",
        "dfFRpo1 = dfFRpo.reset_index()\n",
        "dfFRpa1 = dfFRpa.reset_index()\n",
        "\n",
        "dfFRta1 = dfFRta.reset_index()\n",
        "dfFRau1 = dfFRau.reset_index()\n",
        "\n",
        "dfFRco1 = dfFRco.reset_index()\n",
        "dfFRme1 = dfFRme.reset_index()\n",
        "\n",
        "dfFRmo1 = dfFRmo.reset_index()\n",
        "dfFRat1 = dfFRat.reset_index()\n",
        "\n",
        "#CONCAT DFS\n",
        "dfprepBFM = [dfBFMpo1, dfBFMpa1]\n",
        "dfprepBFM1 = pd.concat(dfprepBFM)\n",
        "\n",
        "dfprepFR = [dfFRpo1, dfFRpa1]\n",
        "dfprepFR1 = pd.concat(dfprepFR)\n",
        "\n",
        "dfadv = [dfFRta1, dfFRau1]\n",
        "dfadv1 = pd.concat(dfadv)\n",
        "\n",
        "dfpart = [dfFRmo1, dfFRat1]\n",
        "dfpart1 = pd.concat(dfpart)\n",
        "\n",
        "dfnom = [dfFRco1, dfFRme1]\n",
        "dfnom1 = pd.concat(dfnom)\n",
        "\n",
        "#RESET INDEX AND DROP COLUMNS ON NEW DFS\n",
        "dfprepBFM2 = dfprepBFM1.reset_index()\n",
        "dfprepBFM3 = dfprepBFM2.drop(columns=['index', 'LC', 'RC', 'Forme', 'level_0'])\n",
        "\n",
        "dfprepFR2 = dfprepFR1.reset_index()\n",
        "dfprepFR3 = dfprepFR2.drop(columns=['index', 'ID', 'LC', 'RC', 'Forme', 'level_0'])\n",
        "\n",
        "dfadv2 = dfadv1.reset_index()\n",
        "dfadv3 = dfadv2.drop(columns=['index', 'ID', 'LC', 'RC', 'Forme', 'level_0'])\n",
        "\n",
        "dfpart2 = dfpart1.reset_index()\n",
        "dfpart3 = dfpart2.drop(columns=['index', 'ID', 'LC', 'RC', 'Forme', 'level_0'])\n",
        "\n",
        "dfnom2 = dfnom1.reset_index()\n",
        "dfnom3 = dfnom2.drop(columns=['index', 'ID', 'LC', 'RC', 'Forme', 'level_0'])\n"
      ],
      "metadata": {
        "id": "P18NadVCnYUS"
      },
      "execution_count": null,
      "outputs": []
    },
    {
      "cell_type": "code",
      "source": [
        "sns.set(rc={'figure.figsize':(40,20), 'grid.color':'black', 'axes.facecolor':'white', 'figure.facecolor':'lightgrey', \"figure.dpi\":200, 'savefig.dpi':400})\n",
        "\n",
        "sns.kdeplot(dfprepBFM3['Date'], color='indigo', linestyle='--')\n",
        "\n",
        "sns.kdeplot(dfprepFR3['Date'], color='indigo')\n",
        "\n",
        "sns.kdeplot(dfBFMta['Date'], color='forestgreen', linestyle=\"--\")\n",
        "\n",
        "sns.kdeplot(dfadv3['Date'], color='forestgreen')\n",
        "\n",
        "sns.kdeplot(dfBFMmo['Date'], color='darkorange', linestyle=\"--\")\n",
        "\n",
        "sns.kdeplot(dfpart3['Date'], color='darkorange')\n",
        "\n",
        "sns.kdeplot(dfBFMme['Date'], color='firebrick', linestyle=\"--\")\n",
        "\n",
        "sns.kdeplot(dfnom3['Date'], color='firebrick')\n",
        "\n",
        "plt.legend(labels=[\"Préposition BFM\", \"Préposition Frantext\", \"Adverbe BFM\", \"Adverbe Frantext\", \"Participe présent/passé BFM\", \"Participe présent/passé Frantext\", \"Élément nominal BFM\", \"Élément nominal Frantext\"], borderpad=1, shadow=True, fancybox=True, ncol=1, title =\"Légende\", fontsize = '25', title_fontsize = \"25\", loc = 2, bbox_to_anchor = (0,1))\n",
        "plt.xlabel('Date', fontsize=25)\n",
        "plt.ylabel('Densité', fontsize=25)\n",
        "plt.xticks((np.arange(1100,1800,50)), fontsize=25)\n",
        "plt.yticks((np.arange(0, 0.016, 0.002)), fontsize=25)\n",
        "plt.xlim(1100,1800)\n",
        "plt.ylim(0,0.016)\n"
      ],
      "metadata": {
        "id": "cbLpmWJGCk7b"
      },
      "execution_count": null,
      "outputs": []
    },
    {
      "cell_type": "markdown",
      "source": [
        "BY FORM"
      ],
      "metadata": {
        "id": "nmn_c4Mt96lQ"
      }
    },
    {
      "cell_type": "code",
      "source": [
        "sns.set(rc={'figure.figsize':(40,20), 'grid.color':'black', 'axes.facecolor':'white', 'figure.facecolor':'lightgrey', \"figure.dpi\":200, 'savefig.dpi':400})\n",
        "\n",
        "sns.kdeplot(dfBFMpo['Date'], color='darkmagenta', linestyle=\"--\")\n",
        "sns.kdeplot(dfFRpo['Date'], color='darkmagenta')\n",
        "\n",
        "sns.kdeplot(dfBFMpa['Date'], color='darkblue', linestyle=\"--\")\n",
        "sns.kdeplot(dfFRpa['Date'], color='darkblue')\n",
        "\n",
        "sns.kdeplot(dfBFMta['Date'], color='limegreen', linestyle=\"--\")\n",
        "sns.kdeplot(dfFRta['Date'], color='limegreen')\n",
        "\n",
        "sns.kdeplot(dfFRau['Date'], color='lawngreen')\n",
        "\n",
        "sns.kdeplot(dfBFMco['Date'], color='darkred', linestyle=\"--\")\n",
        "sns.kdeplot(dfFRco['Date'], color='darkred')\n",
        "\n",
        "sns.kdeplot(dfBFMme['Date'], color='red', linestyle=\"--\")\n",
        "sns.kdeplot(dfFRme['Date'], color='red')\n",
        "\n",
        "sns.kdeplot(dfBFMmo['Date'], color='yellow', linestyle=\"--\")\n",
        "sns.kdeplot(dfFRmo['Date'], color='yellow')\n",
        "\n",
        "sns.kdeplot(dfFRat['Date'], color='orange')\n",
        "\n",
        "plt.legend(labels=[\"'pour que' BFM\", \"'pour que' Frantext\", \"'parce que' BFM\", \"'parce que' Frantext\", \"'tandis que' BFM\", \"'tandis que' Frantext\",\"'aussitôt que' Frantext\", \"'à condition que' Frantext\", \"'à mesure que' BFM\", \"'à mesure que' Frantext\", \"'moyennant que' BFM\", \"'moyennant que' Frantext\", \"'attendu que' Frantext\"], borderpad=1, shadow=True, fancybox=True, ncol=1, title =\"Légende\", fontsize = '25', title_fontsize = \"25\", loc = 2, bbox_to_anchor = (0,1))\n",
        "plt.xlabel('Date', fontsize=25)\n",
        "plt.ylabel('Densité', fontsize=25)\n",
        "plt.xticks((np.arange(1100,1800,50)), fontsize=25)\n",
        "plt.yticks((np.arange(0,0.016,0.002)), fontsize=25)\n",
        "plt.xlim(1100,1800)\n",
        "plt.ylim(0,0.016)"
      ],
      "metadata": {
        "id": "CB-6dGJMC5eE"
      },
      "execution_count": null,
      "outputs": []
    }
  ],
  "metadata": {
    "colab": {
      "collapsed_sections": [],
      "name": "EntireCorpus.ipynb",
      "provenance": [],
      "authorship_tag": "ABX9TyP76dhjWcj8GHku855mDaGb",
      "include_colab_link": true
    },
    "kernelspec": {
      "display_name": "Python 3",
      "name": "python3"
    },
    "language_info": {
      "name": "python"
    }
  },
  "nbformat": 4,
  "nbformat_minor": 0
}
