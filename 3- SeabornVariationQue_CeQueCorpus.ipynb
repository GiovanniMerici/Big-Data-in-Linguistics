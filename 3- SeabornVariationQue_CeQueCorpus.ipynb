{
  "cells": [
    {
      "cell_type": "markdown",
      "metadata": {
        "id": "view-in-github",
        "colab_type": "text"
      },
      "source": [
        "<a href=\"https://colab.research.google.com/github/GiovanniMerici/Big-Data-in-Linguistics/blob/Memoir-specific-code/SeabornVariationQue_CeQueCorpus.ipynb\" target=\"_parent\"><img src=\"https://colab.research.google.com/assets/colab-badge.svg\" alt=\"Open In Colab\"/></a>"
      ]
    },
    {
      "cell_type": "markdown",
      "source": [
        "IMPORT OF LIBRARIES"
      ],
      "metadata": {
        "id": "kpUxjw1oAgDm"
      }
    },
    {
      "cell_type": "code",
      "execution_count": null,
      "metadata": {
        "id": "UEg9OorVmCCt"
      },
      "outputs": [],
      "source": [
        "import pandas as pd\n",
        "import numpy as np\n",
        "import matplotlib.pyplot as plt\n",
        "import seaborn as sns\n",
        "from google.colab import files\n",
        "sns.set_theme(font_scale=40)\n",
        "sns.set_color_codes()\n",
        "from google.colab import drive\n",
        "drive.mount('/content/drive')"
      ]
    },
    {
      "cell_type": "markdown",
      "source": [
        "IMPORT OF DATAFRAMES"
      ],
      "metadata": {
        "id": "R7zTM62SArFy"
      }
    },
    {
      "cell_type": "code",
      "execution_count": null,
      "metadata": {
        "id": "BXWXjnB1mJEn"
      },
      "outputs": [],
      "source": [
        "#VARIATIONQUECEQUEdansPARCEQUEetPOURQUE\n",
        "dfFRpo = pd.read_excel ('FRANTEXTpourque.xlsx') \n",
        "dfBFMpo = pd.read_excel ('BFMpourque.xlsx')\n",
        "dfFRpa = pd.read_excel ('FRANTEXTparceque.xlsx')\n",
        "dfBFMpa = pd.read_excel ('BFMparceque.xlsx')\n",
        "\n",
        "dfBFMpo_withce=dfBFMpo[(dfBFMpo['Forme']==\"pour ce que\") | (dfBFMpo['Forme']==\"pource qu'\") | (dfBFMpo['Forme']==\"por ce que\") | (dfBFMpo['Forme']==\"por ce qu'\")| (dfBFMpo['Forme']==\"Por ce que\") | (dfBFMpo['Forme']==\"Pour ce que\") | (dfBFMpo['Forme']==\"pour ce qu'\") | (dfBFMpo['Forme']==\"pour che que\") | (dfBFMpo['Forme']==\"Por ce qu'\") | (dfBFMpo['Forme']==\"Pour ce qu'\") | (dfBFMpo['Forme']==\"pour che qu'\") | (dfBFMpo['Forme']==\"por ce ke\") | (dfBFMpo['Forme']==\"pur ce que\") | (dfBFMpo['Forme']==\"Pur ce que\") | (dfBFMpo['Forme']==\"Pour che que\") | (dfBFMpo['Forme']==\"pur ce qu'\") | (dfBFMpo['Forme']==\"Pur ce qu'\") | (dfBFMpo['Forme']==\"por che qu'\") | (dfBFMpo['Forme']==\"Pour che qu'\") | (dfBFMpo['Forme']==\"por che que\") | (dfBFMpo['Forme']==\"POUR CE que\") | (dfBFMpo['Forme']==\"por ce k'\") | (dfBFMpo['Forme']==\"por ce quë\") | (dfBFMpo['Forme']==\"Por che que\") | (dfBFMpo['Forme']==\"Pour ce ke\") | (dfBFMpo['Forme']==\"Pour ce Que\")]\n",
        "dfBFMpo_withoutce=dfBFMpo[(dfBFMpo['Forme']==\"por qu'\") | (dfBFMpo['Forme']==\"por que\") | (dfBFMpo['Forme']==\"por ke\") | (dfBFMpo['Forme']==\"Por que\") | (dfBFMpo['Forme']==\"pour que\") | (dfBFMpo['Forme']==\"Por qu'\") | (dfBFMpo['Forme']==\"Por ke\") | (dfBFMpo['Forme']==\"pour qu'\") | (dfBFMpo['Forme']==\"pur Qu'\") | (dfBFMpo['Forme']==\"pur que\")]\n",
        "dfFRpo_withce=dfFRpo[(dfFRpo['Forme']==\"pource que\")| (dfFRpo['Forme']==\"Pource que\") | (dfFRpo['Forme']==\"pource qu'\") | (dfFRpo['Forme']==\"Pource qu'\") | (dfFRpo['Forme']==\"pourcequ'\") | (dfFRpo['Forme']==\"Pourcequ'\") | (dfFRpo['Forme']==\"pourceque\") | (dfFRpo['Forme']==\"Pourceque\") | (dfFRpo['Forme']==\"pour ce que\") | (dfFRpo['Forme']==\"Pour ce que\") | (dfFRpo['Forme']==\"pour che que\") | (dfFRpo['Forme']==\"Pour che que\") | (dfFRpo['Forme']==\"por ce que\") | (dfFRpo['Forme']==\"Por ce que\") | (dfFRpo['Forme']==\"pour che qu'\") | (dfFRpo['Forme']==\"Pour che qu'\") | (dfFRpo['Forme']==\"por ce qu\") | (dfFRpo['Forme']==\"Por ce qu\") | (dfFRpo['Forme']==\"pour che qu\") | (dfFRpo['Forme']==\"Pour che qu\") | (dfFRpo['Forme']==\"pour ce qu\") | (dfFRpo['Forme']==\"Pour ce qu\")]\n",
        "dfFRpo_withoutce=dfFRpo[(dfFRpo['Forme']==\"pour que\") | (dfFRpo['Forme']==\"Pour que\")| (dfFRpo['Forme']==\"pour qu'\") | (dfFRpo['Forme']==\"Pour qu'\") | (dfFRpo['Forme']==\"por qu'\") | (dfFRpo['Forme']==\"Por qu'\") | (dfFRpo['Forme']==\"por que\") | (dfFRpo['Forme']==\"Por que\") | (dfFRpo['Forme']==\"pou que\")]\n",
        "\n",
        "dfBFMpa_withce=dfBFMpa[(dfBFMpa['Forme']==\"par ce que\") | (dfBFMpa['Forme']==\"par ce ke\") | (dfBFMpa['Forme']==\"par ce qu'\") | (dfBFMpa['Forme']==\"Par ce que\") | (dfBFMpa['Forme']==\"par che que\") | (dfBFMpa['Forme']==\"Par ce qu'\") | (dfBFMpa['Forme']==\"par che que\")]\n",
        "dfBFMpa_withoutce=dfBFMpa[(dfBFMpa['Forme']==\"par ke\") | (dfBFMpa['Forme']==\"par k'\") | (dfBFMpa['Forme']==\"par que\") | (dfBFMpa['Forme']==\"Par ke\") | (dfBFMpa['Forme']==\"Par qu'\") | (dfBFMpa['Forme']==\"par qu'\")]\n",
        "dfFRpa_withce=dfFRpa[(dfFRpa['Forme']==\"parce qu'\") | (dfFRpa['Forme']==\"Parce qu'\") | (dfFRpa['Forme']==\"parce que\") | (dfFRpa['Forme']==\"Parce que\") | (dfFRpa['Forme']==\"parceque\") | (dfFRpa['Forme']==\"Parceque\") | (dfFRpa['Forme']==\"parcequ\") | (dfFRpa['Forme']==\"Parcequ\") | (dfFRpa['Forme']==\"par ce que\") | (dfFRpa['Forme']==\"par che que\") | (dfFRpa['Forme']==\"parcequ'\")]\n",
        "dfFRpa_withoutce=dfFRpa[(dfFRpa['Forme']==\"par que\") | (dfFRpa['Forme']==\"par qu'\") | (dfFRpa['Forme']==\"Par qu'\") | (dfFRpa['Forme']==\"par quez\") | (dfFRpa['Forme']==\"paske\") | (dfFRpa['Forme']==\"par qu\")] "
      ]
    },
    {
      "cell_type": "markdown",
      "source": [
        "GRAPHS FOR REPARTITION OF DATA AND EVOLUTION OF 'PAR (CE) QUE' or 'POUR (CE) QUE'\n"
      ],
      "metadata": {
        "id": "I1NQ7svhAwom"
      }
    },
    {
      "cell_type": "code",
      "execution_count": null,
      "metadata": {
        "id": "UOXVJH-1mpvA"
      },
      "outputs": [],
      "source": [
        "sns.set(rc={'figure.figsize':(30,20), 'grid.color':'black', 'axes.facecolor':'white', 'figure.facecolor':'lightgrey', \"figure.dpi\":200, 'savefig.dpi':800})\n",
        "\n",
        "plt.subplot(3,2,1)\n",
        "sns.histplot(dfBFMpa_withce['Date'], color='dodgerblue')\n",
        "sns.histplot(dfBFMpa_withoutce['Date'], color='cyan')\n",
        "plt.legend(labels=[\"Formes de 'par (ce) que' en 'ce que' BFM\", \"Formes de 'par (ce) que' en 'que' BFM\"], borderpad=1, shadow=True, fancybox=True, ncol=1, title =\"Légende\", fontsize = '12', title_fontsize = \"12\", loc = 2, bbox_to_anchor = (0,1))\n",
        "sns.rugplot(dfBFMpa_withce['Date'], color='dodgerblue')\n",
        "sns.rugplot(dfBFMpa_withoutce['Date'], color='cyan')\n",
        "plt.xlabel('Date', fontsize=15)\n",
        "plt.ylabel('Fréquence en nombre absolu', fontsize=15)\n",
        "plt.xticks((np.arange(1100,1800,50)), fontsize=15)\n",
        "plt.yticks((np.arange(0,2500,500)), fontsize=15)\n",
        "plt.xlim(1100,1800)\n",
        "plt.ylim(0,2500)\n",
        "\n",
        "plt.subplot(3,2,2)\n",
        "sns.histplot(dfFRpa_withce['Date'], color='dodgerblue')\n",
        "sns.histplot(dfFRpa_withoutce['Date'], color='cyan')\n",
        "plt.legend(labels=[\"Formes de 'par (ce) que' en 'ce que' Frantext\", \"Formes de 'par (ce) que' en 'que' Frantext\"], borderpad=1, shadow=True, fancybox=True, ncol=1, title =\"Légende\", fontsize = '12', title_fontsize = \"12\", loc = 2, bbox_to_anchor = (0,1))\n",
        "sns.rugplot(dfFRpa_withce['Date'], color='dodgerblue')\n",
        "sns.rugplot(dfFRpa_withoutce['Date'], color='cyan')\n",
        "plt.xlabel('Date', fontsize=15)\n",
        "plt.ylabel('Fréquence en nombre absolu', fontsize=15)\n",
        "plt.xticks((np.arange(1100,1800,50)), fontsize=15)\n",
        "plt.yticks((np.arange(0,2500,500)), fontsize=15)\n",
        "plt.xlim(1100,1800)\n",
        "plt.ylim(0,2500)\n",
        "\n",
        "plt.subplot(3,1,2)\n",
        "sns.kdeplot(dfBFMpa['Date'], color='darkblue', linestyle=\"--\")\n",
        "sns.distplot(dfBFMpa_withce['Date'], color='dodgerblue', kde_kws={\"linestyle\":\"--\"}, hist_kws={\"linestyle\":\"--\", 'edgecolor':'black'})\n",
        "sns.distplot(dfBFMpa_withoutce['Date'], color='cyan', kde_kws={\"linestyle\":\"--\"}, hist_kws={\"linestyle\":\"--\", 'edgecolor':'black'})\n",
        "sns.kdeplot(dfFRpa['Date'], color='darkblue')\n",
        "sns.distplot(dfFRpa_withce['Date'], color='dodgerblue')\n",
        "sns.distplot(dfFRpa_withoutce['Date'], color='cyan')\n",
        "plt.legend(labels=[\"Evolution générale de 'par (ce) que' BFM\", \"Formes de 'par (ce) que' en 'ce que' BFM\", \"Formes de 'par (ce) que' en 'que' BFM\", \"Evolution générale de 'par (ce) que' Frantext\", \"Formes de 'par (ce) que' en 'ce que' Frantext\", \"Formes de 'par (ce) que' en 'que' Frantext\"], borderpad=1, shadow=True, fancybox=True, ncol=2, title =\"Légende\", fontsize = '12', title_fontsize = \"12\", loc = 2, bbox_to_anchor = (0,1))\n",
        "plt.xlabel('Date', fontsize=15)\n",
        "plt.ylabel('Densité', fontsize=15)\n",
        "plt.xticks((np.arange(1100,1800,50)), fontsize=15)\n",
        "plt.yticks((np.arange(0,0.8,0.1)), fontsize=15)\n",
        "plt.xlim(1100,1800)\n",
        "plt.ylim(0,0.8)\n",
        "\n",
        "plt.subplot(3,1,3)\n",
        "sns.kdeplot(dfBFMpa['Date'], color='darkblue', linestyle=\"--\")\n",
        "sns.distplot(dfBFMpa_withce['Date'], color='dodgerblue', kde_kws={\"linestyle\":\"--\"}, hist_kws={\"linestyle\":\"--\", 'edgecolor':'black'})\n",
        "sns.distplot(dfBFMpa_withoutce['Date'], color='cyan', kde_kws={\"linestyle\":\"--\"}, hist_kws={\"linestyle\":\"--\", 'edgecolor':'black'})\n",
        "sns.kdeplot(dfFRpa['Date'], color='darkblue')\n",
        "sns.distplot(dfFRpa_withce['Date'], color='dodgerblue')\n",
        "sns.distplot(dfFRpa_withoutce['Date'], color='cyan')\n",
        "plt.legend(labels=[\"Evolution générale de 'par (ce) que' BFM\", \"Formes de 'par (ce) que' en 'ce que' BFM\", \"Formes de 'par (ce) que' en 'que' BFM\", \"Evolution générale de 'par (ce) que' Frantext\", \"Formes de 'par (ce) que' en 'ce que' Frantext\", \"Formes de 'par (ce) que' en 'que' Frantext\"], borderpad=1, shadow=True, fancybox=True, ncol=2, title =\"Légende\", fontsize = '12', title_fontsize = \"12\", loc = 2, bbox_to_anchor = (0,1))\n",
        "plt.xlabel('Date', fontsize=15)\n",
        "plt.ylabel('Densité', fontsize=15)\n",
        "plt.xticks((np.arange(1100,1800,50)), fontsize=15)\n",
        "plt.yticks((np.arange(0,0.01,0.001)), fontsize=15)\n",
        "plt.xlim(1100,1800)\n",
        "plt.ylim(0,0.01)"
      ]
    },
    {
      "cell_type": "markdown",
      "source": [
        "GRAPHS FOR COMPARISON OF EVOLUTION IN BETWEEN 'POUR (CE) QUE' AND 'PAR (CE) QUE'"
      ],
      "metadata": {
        "id": "RtvL6xCuBtU-"
      }
    },
    {
      "cell_type": "code",
      "execution_count": null,
      "metadata": {
        "colab": {
          "background_save": true
        },
        "id": "liLSXiLVzeBE"
      },
      "outputs": [],
      "source": [
        "sns.set(rc={'figure.figsize':(30,20), 'grid.color':'black', 'axes.facecolor':'white', 'figure.facecolor':'lightgrey', \"figure.dpi\":800, 'savefig.dpi':800})\n",
        "\n",
        "plt.subplot(3,1,1)\n",
        "sns.kdeplot(dfBFMpa['Date'], color='darkblue', linestyle=\"-.\")\n",
        "sns.distplot(dfBFMpa_withce['Date'], color='dodgerblue', kde_kws={\"linestyle\":\"-.\"}, hist_kws={\"linestyle\":\"-.\", 'edgecolor':'black'})\n",
        "sns.distplot(dfBFMpa_withoutce['Date'], color='cyan', kde_kws={\"linestyle\":\"-.\"}, hist_kws={\"linestyle\":\"-.\", 'edgecolor':'black'})\n",
        "sns.kdeplot(dfBFMpo['Date'], color='darkmagenta')\n",
        "sns.distplot(dfBFMpo_withce['Date'], color='fuchsia')\n",
        "sns.distplot(dfBFMpo_withoutce['Date'], color='lightpink')\n",
        "plt.legend(labels=[\"Evolution générale de 'par (ce) que' BFM\", \"Formes de 'par (ce) que' en 'ce que' BFM\", \"Formes de 'par (ce) que' en 'que' BFM\", \"Evolution générale de 'pour (ce) que' BFM\", \"Formes de 'pour (ce) que' en 'ce que' BFM\", \"Formes de 'pour (ce) que' en 'que' BFM\"], borderpad=1, shadow=True, fancybox=True, ncol=2, title =\"Légende\", fontsize = '12', title_fontsize = \"12\", loc = \"upperright\")\n",
        "plt.xlabel('Date', fontsize=15)\n",
        "plt.ylabel('Densité', fontsize=15)\n",
        "plt.xticks((np.arange(1100,1800,50)), fontsize=15)\n",
        "plt.yticks((np.arange(0,0.5,0.1)), fontsize=15)\n",
        "plt.xlim(1100,1800)\n",
        "plt.ylim(0,0.5)\n",
        "\n",
        "plt.subplot(3,1,2)\n",
        "sns.kdeplot(dfBFMpa['Date'], color='darkblue', linestyle=\"-.\")\n",
        "sns.distplot(dfBFMpa_withce['Date'], color='dodgerblue', kde_kws={\"linestyle\":\"-.\"}, hist_kws={\"linestyle\":\"-.\", 'edgecolor':'black'})\n",
        "sns.distplot(dfBFMpa_withoutce['Date'], color='cyan', kde_kws={\"linestyle\":\"-.\"}, hist_kws={\"linestyle\":\"-.\", 'edgecolor':'black'})\n",
        "sns.kdeplot(dfBFMpo['Date'], color='darkmagenta')\n",
        "sns.distplot(dfBFMpo_withce['Date'], color='fuchsia')\n",
        "sns.distplot(dfBFMpo_withoutce['Date'], color='lightpink')\n",
        "plt.legend(labels=[\"Evolution générale de 'par (ce) que' BFM\", \"Formes de 'par (ce) que' en 'ce que' BFM\", \"Formes de 'par (ce) que' en 'que' BFM\", \"Evolution générale de 'pour (ce) que' BFM\", \"Formes de 'pour (ce) que' en 'ce que' BFM\", \"Formes de 'pour (ce) que' en 'que' BFM\"], borderpad=1, shadow=True, fancybox=True, ncol=2, title =\"Légende\", fontsize = '12', title_fontsize = \"12\", loc = \"upperright\")\n",
        "plt.xlabel('Date', fontsize=15)\n",
        "plt.ylabel('Densité', fontsize=15)\n",
        "plt.xticks((np.arange(1100,1800,50)), fontsize=15)\n",
        "plt.yticks((np.arange(0,0.03,0.005)), fontsize=15)\n",
        "plt.xlim(1100,1800)\n",
        "plt.ylim(0,0.03)\n",
        "\n",
        "plt.subplot(3,1,3)\n",
        "sns.kdeplot(dfFRpa['Date'], color='darkblue', linestyle=\"-.\")\n",
        "sns.distplot(dfFRpa_withce['Date'], color='dodgerblue', kde_kws={\"linestyle\":\"-.\"}, hist_kws={\"linestyle\":\"-.\", 'edgecolor':'black'})\n",
        "sns.distplot(dfFRpa_withoutce['Date'], color='cyan', kde_kws={\"linestyle\":\"-.\"}, hist_kws={\"linestyle\":\"-.\", 'edgecolor':'black'})\n",
        "sns.kdeplot(dfFRpo['Date'], color='darkmagenta')\n",
        "sns.distplot(dfFRpo_withce['Date'], color='fuchsia')\n",
        "sns.distplot(dfFRpo_withoutce['Date'], color='lightpink')\n",
        "plt.legend(labels=[\"Evolution générale de 'par (ce) que' Frantext\", \"Formes de 'par (ce) que' en 'ce que' Frantext\", \"Formes de 'par (ce) que' en 'que' Frantext\", \"Evolution générale de 'pour (ce) que' Frantext\", \"Formes de 'pour (ce) que' en 'ce que' Frantext\", \"Formes de 'pour (ce) que' en 'que' Frantext\"], borderpad=1, shadow=True, fancybox=True, ncol=2, title =\"Légende\", fontsize = '12', title_fontsize = \"12\", loc = 2, bbox_to_anchor = (0,1))\n",
        "plt.xlabel('Date', fontsize=15)\n",
        "plt.ylabel('Densité', fontsize=15)\n",
        "plt.xticks((np.arange(1100,1800,50)), fontsize=15)\n",
        "plt.yticks((np.arange(0,0.03,0.005)), fontsize=15)\n",
        "plt.xlim(1100,1800)\n",
        "plt.ylim(0,0.03)"
      ]
    }
  ],
  "metadata": {
    "colab": {
      "collapsed_sections": [],
      "name": "VariationQue-CeQueCorpus.ipynb",
      "provenance": [],
      "authorship_tag": "ABX9TyOflO4f0GntRjkcqOcP4cRz",
      "include_colab_link": true
    },
    "kernelspec": {
      "display_name": "Python 3",
      "name": "python3"
    },
    "language_info": {
      "name": "python"
    }
  },
  "nbformat": 4,
  "nbformat_minor": 0
}
