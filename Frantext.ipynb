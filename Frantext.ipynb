{
 "cells": [
  {
   "cell_type": "code",
   "execution_count": null,
   "id": "3cdd474a-2b09-4ffa-9c1e-fc8b0833d9bb",
   "metadata": {},
   "outputs": [],
   "source": [
    "import pandas as pd\n",
    "import matplotlib.pyplot as plt\n",
    "import numpy as np\n",
    "excel = pd.read_excel ('Name.xlsx')\n",
    "f= excel.drop(columns=['ID','Cote','LC','RC'])\n",
    "x=input('insert first forme')"
   ]
  },
  {
   "cell_type": "code",
   "execution_count": null,
   "id": "9a210478-0141-45c6-a791-b64b34994261",
   "metadata": {},
   "outputs": [],
   "source": [
    "df = f[(f['Forme']==x)] \n",
    "df"
   ]
  },
  {
   "cell_type": "raw",
   "id": "1d3b0023-02fa-4474-be1b-e695d925455a",
   "metadata": {},
   "source": [
    "#if more formes are needed\n",
    "y='insert second forme'\n",
    "z='insert second forme'\n",
    "df = f[(f['Forme']==x) | (f['Forme']==y) | (f['Forme']==z)"
   ]
  },
  {
   "cell_type": "markdown",
   "id": "4389b680-1447-44e0-b798-7ce72079f963",
   "metadata": {},
   "source": [
    "Graphs"
   ]
  },
  {
   "cell_type": "code",
   "execution_count": null,
   "id": "d1cda7e3-13cc-477b-8045-bc06196746f2",
   "metadata": {},
   "outputs": [],
   "source": [
    "\n",
    "plt.rcParams['axes.labelsize'] = 20\n",
    "plt.rcParams['axes.titlesize'] = 20\n",
    "g=input('kind of plot') #(kde,box,hist)\n",
    "df1 = df.drop(columns=['Forme'])\n",
    "df1.rename(columns={'Date':x}, inplace=True)\n",
    "\n",
    "if g=='box':\n",
    "    print('Graphs for', x,':')\n",
    "    df1.plot(kind=g, title=x, figsize=(5,5), grid=True, colormap='Greens_r', patch_artist=True)\n",
    "elif g=='all':\n",
    "    a=int(input('first year'))\n",
    "    b=int(input('last year'))\n",
    "    c=float(input('y=min'))\n",
    "    d=float(input('y=max'))\n",
    "    while b<a :\n",
    "        print('last year must be higer than first')\n",
    "        b=int(input('last year'))\n",
    "    print('Graphs for', x)\n",
    "    df1.plot(kind='kde', ylim=(c/2500,d/2500), xlim=(a,b), title=x, figsize=(5,5), grid=True, colormap='Greens_r', xlabel='Dates')\n",
    "    df1.plot(kind='hist', ylim=(c*150,d*150), xlim=(a,b), title=x, figsize=(5,5), grid=True, colormap='spring', xlabel='Dates')\n",
    "    df1.plot(kind='box', title=x, figsize=(5,5), grid=True, colormap='rainbow', patch_artist=True)\n",
    "else:\n",
    "    a=int(input('first year'))\n",
    "    b=int(input('last year'))\n",
    "    c=float(input('y=min'))\n",
    "    print('rows in dataframe=',len(df1))\n",
    "    d=float(input('y=max'))\n",
    "    while b<a :\n",
    "        print('last year must be higer than first')\n",
    "        b=int(input('last year'))\n",
    "    print('Graphs for', x,':')\n",
    "    df1.plot(kind=g, ylim=(c,d), xlim=(a,b), title=x, figsize=(5,5), grid=True, colormap='Greens_r', xlabel='Dates')\n",
    "    "
   ]
  },
  {
   "cell_type": "markdown",
   "id": "0b98a7d8-89ff-4728-ac8f-a4ae98b44179",
   "metadata": {},
   "source": [
    "offline search engine"
   ]
  },
  {
   "cell_type": "code",
   "execution_count": null,
   "id": "54192d4c-dd51-4e72-a29c-a2958c8bbe7f",
   "metadata": {},
   "outputs": [],
   "source": [
    "w=input('Are you looking for a date or a word?')\n",
    "if w=='word':\n",
    "    query=input('Insert what you are looking for')\n",
    "    column=input('Insert in which column you are looking into')\n",
    "    r = f[f[column].str.contains(query)]\n",
    "else:\n",
    "    query=[int(input('Insert date'))]\n",
    "    column=input('Insert in which column you are looking into')\n",
    "    r = f[f['Date'].isin(query)]\n",
    "pd.set_option('display.max_rows', None)\n",
    "r"
   ]
  },
  {
   "cell_type": "markdown",
   "id": "d5c090bc-af23-429e-a06f-86a48c571acf",
   "metadata": {},
   "source": [
    "Search for cases of copresence in same years"
   ]
  },
  {
   "cell_type": "markdown",
   "id": "31fedc81-07b1-4745-8fc0-126fcb0b1772",
   "metadata": {},
   "source": [
    "left=df1\n",
    "right=df2\n",
    "result =pd.merge(left, right, how='inner', on=['Date'])\n",
    "re = result.drop(columns=['ID_x','ID_y'])\n",
    "print('There are',len(re),'cases of copresence from year',re['Date'].min(),'to year',re['Date'].max())"
   ]
  },
  {
   "cell_type": "code",
   "execution_count": null,
   "id": "ea9d356d-5022-4271-b4d7-c0aba8222559",
   "metadata": {},
   "outputs": [],
   "source": []
  }
 ],
 "metadata": {
  "kernelspec": {
   "display_name": "Python 3",
   "language": "python",
   "name": "python3"
  },
  "language_info": {
   "codemirror_mode": {
    "name": "ipython",
    "version": 3
   },
   "file_extension": ".py",
   "mimetype": "text/x-python",
   "name": "python",
   "nbconvert_exporter": "python",
   "pygments_lexer": "ipython3",
   "version": "3.8.8"
  }
 },
 "nbformat": 4,
 "nbformat_minor": 5
}
