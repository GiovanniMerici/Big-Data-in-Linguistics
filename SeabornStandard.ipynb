{
  "cells": [
    {
      "cell_type": "markdown",
      "metadata": {
        "id": "view-in-github",
        "colab_type": "text"
      },
      "source": [
        "<a href=\"https://colab.research.google.com/github/GiovanniMerici/Big-Data-in-Linguistics/blob/main/SeabornStandard.ipynb\" target=\"_parent\"><img src=\"https://colab.research.google.com/assets/colab-badge.svg\" alt=\"Open In Colab\"/></a>"
      ]
    },
    {
      "cell_type": "code",
      "execution_count": null,
      "id": "d5689533-4dfa-45c7-a85b-60a66b1d8622",
      "metadata": {
        "id": "d5689533-4dfa-45c7-a85b-60a66b1d8622"
      },
      "outputs": [],
      "source": [
        "import pandas as pd\n",
        "import numpy as np\n",
        "import matplotlib.pyplot as plt\n",
        "import seaborn as sns\n",
        "from google.colab import files\n",
        "df = pd.read_excel ('name.xlsx')\n",
        "sns.set_theme()\n",
        "sns.set_color_codes()\n",
        "sns.histplot(df['Date'],color='g')\n",
        "plt.legend(labels=[\"label\"], title = \"Legend\", fontsize = 'large', title_fontsize = \"10\", loc = 2, bbox_to_anchor = (1,1))"
      ]
    },
    {
      "cell_type": "markdown",
      "id": "a778f5ad-c74e-4add-8f1f-a0176dbd307d",
      "metadata": {
        "id": "a778f5ad-c74e-4add-8f1f-a0176dbd307d"
      },
      "source": [
        "Demo of functs"
      ]
    },
    {
      "cell_type": "code",
      "execution_count": null,
      "id": "3bc5fba1-a09a-4c7f-bb1e-9aae1b4571dc",
      "metadata": {
        "id": "3bc5fba1-a09a-4c7f-bb1e-9aae1b4571dc"
      },
      "outputs": [],
      "source": [
        "sns.set(rc={'figure.figsize':(20,10),'axes.facecolor':'lightblue', 'figure.facecolor':'lightgreen'})\n",
        "plt.subplot(2,1,1)\n",
        "sns.distplot(df['Date'], color='r').set(title='Title of a plot')\n",
        "sns.kdeplot(df['Date'], color='b')\n",
        "plt.legend(labels=[\"\"], title = \"Legend\", fontsize = 'large', title_fontsize = \"10\", loc = 2, bbox_to_anchor = (1,1))\n",
        "plt.ylim(0,0.008)\n",
        "plt.xlim(1000,1800)\n",
        "plt.xticks(np.arange(1000,1800,50))\n",
        "plt.subplot(2,1,2)\n",
        "sns.histplot(df['Date'],color='g')\n",
        "plt.legend(labels=[\"\"], title = \"Legend\", fontsize = 'large', title_fontsize = \"10\", loc = 2, bbox_to_anchor = (1,1))\n",
        "#plt.savefig('seaborn.png', dpi=2400)"
      ]
    },
    {
      "cell_type": "code",
      "execution_count": null,
      "id": "f7696dcd-53a7-4f41-8e84-df3c2f7fc5a5",
      "metadata": {
        "id": "f7696dcd-53a7-4f41-8e84-df3c2f7fc5a5"
      },
      "outputs": [],
      "source": [
        "sns.rugplot(df['Date'], color='r').set(title='Title of a plot')\n",
        "sns.histplot(df['Date'], color='b')\n",
        "plt.legend(labels=[\"\"], title = \"Legend\", fontsize = 'large', title_fontsize = \"10\", loc = 2, bbox_to_anchor = (1,1))"
      ]
    },
    {
      "cell_type": "markdown",
      "id": "486735f4-dd16-4f9a-9650-ca76b4e96855",
      "metadata": {
        "id": "486735f4-dd16-4f9a-9650-ca76b4e96855"
      },
      "source": [
        "different Dataframes"
      ]
    },
    {
      "cell_type": "code",
      "source": [
        "sns.set(rc={'figure.figsize':(20,20),'axes.facecolor':'grey', 'figure.facecolor':'white'})\n",
        "\n",
        "plt.subplot(3,1,1)\n",
        "plt.xlabel('xlabel', fontsize=20)\n",
        "plt.ylabel('Density', fontsize=20)\n",
        "plt.xticks(fontsize=20)\n",
        "plt.xticks(fontsize=20)\n",
        "plt.xlim(1100,1800)\n",
        "sns.distplot(df['Date'])\n",
        "sns.rugplot(df['Date'], color='yellow')\n",
        "plt.legend(labels=[\"trial1\"], title = \"Legend of the gods\", fontsize = 'large', title_fontsize = \"10\", loc = 2, bbox_to_anchor = (1,1))\n",
        "\n",
        "plt.subplot(3,1,2)\n",
        "plt.xlim(1100,1800)\n",
        "plt.xlabel('xlabel', fontsize=20)\n",
        "plt.xticks(fontsize=20)\n",
        "sns.violinplot(x=df['Date'], orient='h')\n",
        "sns.stripplot(df['Date'], color='yellow', jitter=0.05, linewidth=0.5)\n",
        "plt.legend(labels=[\"trial1\"], title = \"Legend of the gods\", fontsize = 'large', title_fontsize = \"10\", loc = 2, bbox_to_anchor = (1,1))\n",
        "\n",
        "plt.subplot(3,1,3)\n",
        "plt.xlim(1100,1800)\n",
        "plt.xlabel('xlabel', fontsize=20)\n",
        "plt.xticks(fontsize=20)\n",
        "sns.boxplot(x=df['Date'], orient='h')\n",
        "sns.stripplot(x=df['Date'], color='yellow', jitter=0.05, linewidth=0.5)\n",
        "plt.legend(labels=[\"trial1\"], title = \"Legend of the gods\", fontsize = 'large', title_fontsize = \"10\", loc = 2, bbox_to_anchor = (1,1))\n",
        "plt.savefig(\"seaborn.png\")\n",
        "files.download(\"seaborn.png\") \n"
      ],
      "metadata": {
        "id": "0q3bVJDD-tN1"
      },
      "id": "0q3bVJDD-tN1",
      "execution_count": null,
      "outputs": []
    }
  ],
  "metadata": {
    "kernelspec": {
      "display_name": "Python 3",
      "language": "python",
      "name": "python3"
    },
    "language_info": {
      "codemirror_mode": {
        "name": "ipython",
        "version": 3
      },
      "file_extension": ".py",
      "mimetype": "text/x-python",
      "name": "python",
      "nbconvert_exporter": "python",
      "pygments_lexer": "ipython3",
      "version": "3.8.8"
    },
    "colab": {
      "name": "SeabornStandard.ipynb",
      "provenance": [],
      "include_colab_link": true
    }
  },
  "nbformat": 4,
  "nbformat_minor": 5
}