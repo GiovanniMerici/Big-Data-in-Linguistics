{
 "cells": [
  {
   "cell_type": "code",
   "execution_count": null,
   "id": "3cdd474a-2b09-4ffa-9c1e-fc8b0833d9bb",
   "metadata": {},
   "outputs": [],
   "source": [
    "import pandas as pd\n",
    "import matplotlib.pyplot as plt\n",
    "import numpy as np\n",
    "import webbrowser"
   ]
  },
  {
   "cell_type": "markdown",
   "id": "2f06e099-ac19-466d-a7c7-e0097599f8af",
   "metadata": {},
   "source": [
    "Import data from Frantext"
   ]
  },
  {
   "cell_type": "code",
   "execution_count": null,
   "id": "b34287f0-7c8d-4542-9f11-63216fd1a406",
   "metadata": {},
   "outputs": [],
   "source": [
    "webbrowser.open('https://www.frantext.fr') \n",
    "excel = pd.read_excel ('Name.xlsx')\n",
    "f= excel.drop(columns=['ID','Cote','LC','RC'])\n",
    "x=input('insert first forme')\n",
    "df = f[(f['Forme']==x)]"
   ]
  },
  {
   "cell_type": "markdown",
   "id": "38f94a0f-28d6-4962-8fe3-5c3251ee2a1d",
   "metadata": {},
   "source": [
    "Import data from BFM"
   ]
  },
  {
   "cell_type": "code",
   "execution_count": null,
   "id": "0c0c43b3-1aa1-48fa-8da1-d57a7c3a7783",
   "metadata": {},
   "outputs": [],
   "source": [
    "webbrowser.open('http://bfm.ens-lyon.fr') \n",
    "excel = pd.read_excel ('Name.xlsx')\n",
    "f= excel.drop(columns=['LC','RC'])\n",
    "x=input('insert first forme')\n",
    "df = f[(f['Forme']==x)] "
   ]
  },
  {
   "cell_type": "markdown",
   "id": "7313209d-fb68-4e42-b070-19f4619dba24",
   "metadata": {},
   "source": [
    "Creation of a dataframe with more formes "
   ]
  },
  {
   "cell_type": "code",
   "execution_count": null,
   "id": "07a84e83-9dd5-4b2c-8c1b-8fc94b35b20c",
   "metadata": {},
   "outputs": [],
   "source": [
    "y='insert second forme'\n",
    "z='insert third forme'\n",
    "df = f[(f['Forme']==x) | (f['Forme']==y) | (f['Forme']==z)"
   ]
  },
  {
   "cell_type": "markdown",
   "id": "79e7b5de-529d-4b52-886b-dc61e7ad1d65",
   "metadata": {},
   "source": [
    "Create dataframe by adding formes"
   ]
  },
  {
   "cell_type": "code",
   "execution_count": null,
   "id": "db4b692e-741f-4653-b37d-49e466456f53",
   "metadata": {},
   "outputs": [],
   "source": [
    "df =pd.DataFrame(np.array([[0]]), columns=['ID'])\n",
    "key=input('forme to add to the dataframe, if finished insert done')\n",
    "while key!='done': \n",
    "        df = df.append(df[(df['Forme']==key)])\n",
    "        print(df)\n",
    "        key=input('forme to add to the dataframe, if finished insert done')"
   ]
  },
  {
   "cell_type": "markdown",
   "id": "4389b680-1447-44e0-b798-7ce72079f963",
   "metadata": {},
   "source": [
    "Graphs for one dataframe"
   ]
  },
  {
   "cell_type": "code",
   "execution_count": null,
   "id": "d1cda7e3-13cc-477b-8045-bc06196746f2",
   "metadata": {},
   "outputs": [],
   "source": [
    "plt.rcParams['axes.labelsize'] = 20\n",
    "plt.rcParams['axes.titlesize'] = 20\n",
    "g=input('kind of plot') #(kde,box,hist)\n",
    "df1 = df.drop(columns=['Forme'])\n",
    "df1.rename(columns={'Date':x}, inplace=True)\n",
    "\n",
    "if g=='box':\n",
    "    print('Graphs for', x,':')\n",
    "    df1.plot(kind=g, title=x, figsize=(5,5), grid=True, colormap='Greens_r', patch_artist=True)\n",
    "elif g=='all':\n",
    "    a=int(input('first year'))\n",
    "    b=int(input('last year'))\n",
    "    c=float(input('y=min'))\n",
    "    d=float(input('y=max'))\n",
    "    e=float(input('xticks'))\n",
    "    while b<a :\n",
    "        print('last year must be higher than first')\n",
    "        b=int(input('last year'))\n",
    "    print('Graphs for', x)\n",
    "    plt.xticks(np.arange(a,b,e))\n",
    "    df1.plot(kind='kde', ylim=(c/2500,d/2500), xlim=(a,b), title=x, figsize=(5,5), grid=True, colormap='Greens_r', xlabel='Dates')\n",
    "    df1.plot(kind='hist', ylim=(c*150,d*150), xlim=(a,b), title=x, figsize=(5,5), grid=True, colormap='spring', xlabel='Dates')\n",
    "    df1.plot(kind='box', title=x, figsize=(5,5), grid=True, colormap='rainbow', patch_artist=True)\n",
    "else:\n",
    "    a=int(input('first year'))\n",
    "    b=int(input('last year'))\n",
    "    c=float(input('y=min'))\n",
    "    print('rows in dataframe=',len(df1))\n",
    "    d=float(input('y=max'))\n",
    "    e=float(input('xticks'))\n",
    "    while b<a :\n",
    "        print('last year must be higher than first')\n",
    "        b=int(input('last year'))\n",
    "    print('Graphs for', x,':')\n",
    "    plt.xticks(np.arange(a,b,e))\n",
    "    df1.plot(kind=g, ylim=(c,d), xlim=(a,b), title=x, figsize=(5,5), grid=True, colormap='Greens_r', xlabel='Dates')\n",
    "    \n",
    "plt.savefig('dataframe.png', dpi=300)"
   ]
  },
  {
   "cell_type": "markdown",
   "id": "dafe087e-84c6-4963-ae32-eec1d061e223",
   "metadata": {},
   "source": [
    "Graphs to compare 2 different dataframes"
   ]
  },
  {
   "cell_type": "code",
   "execution_count": null,
   "id": "57fdd4fb-5e91-4dc4-90a9-e59c89f9e7a1",
   "metadata": {},
   "outputs": [],
   "source": [
    "plt.rcParams['axes.labelsize'] = 20\n",
    "plt.rcParams['axes.titlesize'] = 20\n",
    "\n",
    "g=input('kind of plot') #(kde,box,hist)\n",
    "\n",
    "if g=='box':\n",
    "    print('Graphs for', x,':')\n",
    "    df['Date'].plot(kind=g, title=x, figsize=(5,5), grid=True, colormap='Greens_r', patch_artist=True)\n",
    "    df2['Date'].plot(kind=g, title=x, figsize=(5,5), grid=True, colormap='Greens_r', patch_artist=True)\n",
    "elif g=='all':\n",
    "    a=int(input('first year'))\n",
    "    b=int(input('last year'))\n",
    "    c=float(input('y=min'))\n",
    "    d=float(input('y=max'))\n",
    "    e=float(input('xticks'))\n",
    "    while b<a :\n",
    "        print('last year must be higher than first')\n",
    "        b=int(input('last year'))\n",
    "    print('Graphs for', x)\n",
    "    plt.xticks(np.arange(a,b,e))\n",
    "    df['Date'].plot(kind='kde', ylim=(c/2500,d/2500), xlim=(a,b), title=x, figsize=(5,5), grid=True, colormap='Greens_r', xlabel='Dates')\n",
    "    df['Date'].plot(kind='hist', ylim=(c*150,d*150), xlim=(a,b), title=x, figsize=(5,5), grid=True, colormap='spring', xlabel='Dates')\n",
    "    df['Date'].plot(kind='box', title=x, figsize=(5,5), grid=True, colormap='rainbow', patch_artist=True)\n",
    "    df2['Date'].plot(kind='kde', ylim=(c/2500,d/2500), xlim=(a,b), title=x, figsize=(5,5), grid=True, colormap='Greens_r', xlabel='Dates')\n",
    "    df2['Date'].plot(kind='hist', ylim=(c*150,d*150), xlim=(a,b), title=x, figsize=(5,5), grid=True, colormap='spring', xlabel='Dates')\n",
    "    df2['Date'].plot(kind='box', title=x, figsize=(5,5), grid=True, colormap='rainbow', patch_artist=True)\n",
    "else:\n",
    "    a=int(input('first year'))\n",
    "    b=int(input('last year'))\n",
    "    c=float(input('y=min'))\n",
    "    print('rows in dataframe=',len(df1))\n",
    "    d=float(input('y=max'))\n",
    "    e=float(input('xticks'))\n",
    "    while b<a :\n",
    "        print('last year must be higher than first')\n",
    "        b=int(input('last year'))\n",
    "    print('Graphs for', x,':')\n",
    "    plt.xticks(np.arange(a,b,e))\n",
    "    df['Date'].plot(kind=g, ylim=(c,d), xlim=(a,b), title=x, figsize=(5,5), grid=True, colormap='Greens_r', xlabel='Dates')\n",
    "    df2['Date'].plot(kind=g, ylim=(c,d), xlim=(a,b), title=x, figsize=(5,5), grid=True, colormap='Greens_r', xlabel='Dates')\n",
    "   \n",
    "plt.savefig('DataframeComparison.png', dpi=1080)"
   ]
  },
  {
   "cell_type": "markdown",
   "id": "ec4d374f-bfb2-41de-bc0c-52a8717f4692",
   "metadata": {},
   "source": [
    "Graphs for 2 or more dataframes"
   ]
  },
  {
   "cell_type": "code",
   "execution_count": null,
   "id": "10c5af0b-8f31-472c-986b-3a7ed09fcc3a",
   "metadata": {},
   "outputs": [],
   "source": [
    "g=input('kind of plot') #(kde,box,hist)\n",
    "\n",
    "df1['Date'].plot(kind=g, legend=True, grid=True, label='Date')\n",
    "df2['Date'].plot(kind=g, legend=True, grid=True, label='Date')\n",
    "df3['Date'].plot(kind=g, legend=True, grid=True, label='Date')\n",
    "df4['Date'].plot(kind=g, legend=True, grid=True, label='Date')\n",
    "\n",
    "plt.savefig('DataframeComparison.png', dpi=1080)"
   ]
  },
  {
   "cell_type": "markdown",
   "id": "0b98a7d8-89ff-4728-ac8f-a4ae98b44179",
   "metadata": {},
   "source": [
    "Offline search engine"
   ]
  },
  {
   "cell_type": "code",
   "execution_count": null,
   "id": "54192d4c-dd51-4e72-a29c-a2958c8bbe7f",
   "metadata": {},
   "outputs": [],
   "source": [
    "w=input('Are you looking for a date or a word?')\n",
    "if w=='word':\n",
    "    query=input('Insert what you are looking for')\n",
    "    column=input('Insert in which column you are looking into')\n",
    "    r = f[f[column].str.contains(query)]\n",
    "else:\n",
    "    query=[int(input('Insert date'))]\n",
    "    column=input('Insert in which column you are looking into')\n",
    "    r = f[f['Date'].isin(query)]\n",
    "pd.set_option('display.max_rows', None)\n",
    "r"
   ]
  },
  {
   "cell_type": "markdown",
   "id": "d5c090bc-af23-429e-a06f-86a48c571acf",
   "metadata": {},
   "source": [
    "Search for cases of copresence in same years"
   ]
  },
  {
   "cell_type": "code",
   "execution_count": null,
   "id": "039f926a-2140-4ca0-a384-5abb6a106dc1",
   "metadata": {},
   "outputs": [],
   "source": [
    "left=df1\n",
    "right=df2\n",
    "result =pd.merge(left, right, how='inner', on=['Date'])\n",
    "re = result.drop(columns=['ID_x','ID_y'])\n",
    "print('There are',len(re),'cases of copresence from year',re['Date'].min(),'to year',re['Date'].max())"
   ]
  }
 ],
 "metadata": {
  "kernelspec": {
   "display_name": "Python 3",
   "language": "python",
   "name": "python3"
  },
  "language_info": {
   "codemirror_mode": {
    "name": "ipython",
    "version": 3
   },
   "file_extension": ".py",
   "mimetype": "text/x-python",
   "name": "python",
   "nbconvert_exporter": "python",
   "pygments_lexer": "ipython3",
   "version": "3.8.8"
  }
 },
 "nbformat": 4,
 "nbformat_minor": 5
}
