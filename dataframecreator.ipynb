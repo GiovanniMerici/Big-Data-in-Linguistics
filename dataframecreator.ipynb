{
 "cells": [
  {
   "cell_type": "markdown",
   "id": "54d6ac81-37ac-4527-b962-86956d5fe27b",
   "metadata": {},
   "source": [
    "Create a dataframe adding different formes from the source dataframe"
   ]
  },
  {
   "cell_type": "code",
   "execution_count": null,
   "id": "6c945b70-55dd-415e-b195-75c2f07a479c",
   "metadata": {},
   "outputs": [],
   "source": [
    "import numpy as np\n",
    "trial =pd.DataFrame(np.array([[0]]), columns=['ID'])\n",
    "lol=input('forme to add to the dataframe, if finished insert done')\n",
    "while lol!='done': \n",
    "        trial = trial.append(df1[(df1['Forme']==lol)])\n",
    "        print(trial)\n",
    "        lol=input('forme to add to the dataframe, if finished insert done')"
   ]
  }
 ],
 "metadata": {
  "kernelspec": {
   "display_name": "Python 3",
   "language": "python",
   "name": "python3"
  },
  "language_info": {
   "codemirror_mode": {
    "name": "ipython",
    "version": 3
   },
   "file_extension": ".py",
   "mimetype": "text/x-python",
   "name": "python",
   "nbconvert_exporter": "python",
   "pygments_lexer": "ipython3",
   "version": "3.8.8"
  }
 },
 "nbformat": 4,
 "nbformat_minor": 5
}
