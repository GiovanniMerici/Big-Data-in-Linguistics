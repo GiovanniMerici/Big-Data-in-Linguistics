{
 "cells": [
  {
   "cell_type": "code",
   "execution_count": null,
   "id": "08b069f2-1aef-4310-a54a-1da99853f105",
   "metadata": {},
   "outputs": [],
   "source": [
    "df_pqe['Date'].plot(kind='kde', legend=True, grid=True, xlim=(1100,1800), colormap='rainbow', label='pqe')\n",
    "df_pqap['Date'].plot(kind='kde', legend=True,  grid=True, colormap='brg', label='pqap')\n",
    "df_pqu['Date'].plot(kind='kde', legend=True,  grid=True)\n",
    "df_pqes['Date'].plot(kind='kde', legend=True,  grid=True)\n",
    "plt.savefig('databese4k.png', dpi=300)"
   ]
  }
 ],
 "metadata": {
  "kernelspec": {
   "display_name": "Python 3",
   "language": "python",
   "name": "python3"
  },
  "language_info": {
   "codemirror_mode": {
    "name": "ipython",
    "version": 3
   },
   "file_extension": ".py",
   "mimetype": "text/x-python",
   "name": "python",
   "nbconvert_exporter": "python",
   "pygments_lexer": "ipython3",
   "version": "3.8.8"
  }
 },
 "nbformat": 4,
 "nbformat_minor": 5
}
