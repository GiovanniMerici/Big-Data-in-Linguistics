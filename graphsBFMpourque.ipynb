{
 "cells": [
  {
   "cell_type": "code",
   "execution_count": null,
   "id": "9d488b79-ed35-42ab-a48a-14ca9786f90b",
   "metadata": {},
   "outputs": [],
   "source": [
    "import pandas as pd\n",
    "import matplotlib as plt\n",
    "df = pd.read_excel ('BFMpourque.xlsx')"
   ]
  },
  {
   "cell_type": "code",
   "execution_count": null,
   "id": "01c49f83-434a-45f9-89d6-5757220950af",
   "metadata": {},
   "outputs": [],
   "source": [
    "df1 = df.drop(columns=['ContexteGauche','ContexteDroit'])"
   ]
  },
  {
   "cell_type": "code",
   "execution_count": null,
   "id": "1392b991-668e-42e8-bacf-f15a5ef2c14d",
   "metadata": {},
   "outputs": [],
   "source": [
    "df1\n",
    "\n",
    "df_p1=df1[(df1['Forme']==\"pour ce que\")| (df1['Forme']==\"pour ce qu'\") | (df1['Forme']==\"por ce que\") | (df1['Forme']==\"por ce qu'\") | (df1['Forme']==\"Por ce que\") | (df1['Forme']==\"Pour ce que\") | (df1['Forme']==\"pour ce qu'\") | (df1['Forme']==\"pour che que\") | (df1['Forme']==\"Por ce qu'\") | (df1['Forme']==\"Pour ce qu'\") | (df1['Forme']==\"pour che qu'\") | (df1['Forme']==\"por qu'\") | (df1['Forme']==\"por ce ke\") | (df1['Forme']==\"pur ce que\") | (df1['Forme']==\"Pur ce que\") | (df1['Forme']==\"Pour che que\") | (df1['Forme']==\"pur ce qu'\") | (df1['Forme']==\"Pur ce qu'\") | (df1['Forme']==\"por che qu'\") | (df1['Forme']==\"Pour che qu'\") | (df1['Forme']==\"por che que\") | (df1['Forme']==\"POUR CE que\") | (df1['Forme']==\"por ce k'\") | (df1['Forme']==\"por ce quë\") | (df1['Forme']==\"Por che que\") | (df1['Forme']==\"Pour ce ke\") | (df1['Forme']==\"Pour ce Que\")]\n",
    "df_p2=df1[(df1['Forme']==\"por que\") | (df1['Forme']==\"por ke\")| (df1['Forme']==\"Por que\") | (df1['Forme']==\"pour que\") | (df1['Forme']==\"Por qu'\") | (df1['Forme']==\"Por ke\") | (df1['Forme']==\"pour qu'\") | (df1['Forme']==\"pur Qu'\") | (df1['Forme']==\"pur que\")]\n",
    "\n",
    "df_p1\n",
    "df_p2"
   ]
  },
  {
   "cell_type": "code",
   "execution_count": null,
   "id": "8955b1a0-ae39-41e5-bec0-ec762a279949",
   "metadata": {},
   "outputs": [],
   "source": [
    "df_p11 = df_p1.drop(columns=['Forme'])\n",
    "df_p11.rename(columns = {'Date':'Présence du pronom démonstratif \"ce\"'}, inplace = True)\n",
    "df_p21 = df_p2.drop(columns=['Forme'])\n",
    "df_p21.rename(columns = {'Date':'Absence du pronom démonstratif \"ce\"'}, inplace = True)"
   ]
  },
  {
   "cell_type": "markdown",
   "id": "583cfab4-48ef-496a-88dd-d4ed7d11bc34",
   "metadata": {},
   "source": [
    "Graphs : démonstratif \"ce\" présent dans le paradigme de \"pour que\""
   ]
  },
  {
   "cell_type": "code",
   "execution_count": null,
   "id": "21866bc8-c45a-47c6-854e-8ea8afd0daad",
   "metadata": {},
   "outputs": [],
   "source": [
    "df_p11.plot(kind='kde', ylim=(0,0.015), xlim=(1150,1799), xlabel='date', title=\"Présence du pronom démonstratif 'ce'\", figsize=(10,5), grid=True, colormap='Greens_r')\n",
    "\n",
    "df_p11.plot(kind='hist', grid=True, colormap='Greens_r', figsize=(10,5))\n",
    "\n",
    "df_p11.plot(kind='box', grid=True, colormap='Greens_r', figsize=(10,5), patch_artist=True)"
   ]
  },
  {
   "cell_type": "markdown",
   "id": "e47786bb-494c-4a5a-bc4e-c11f191733a9",
   "metadata": {},
   "source": [
    "Graphs: démonstratif \"ce\" absent dans le paradigme de \"pour que\""
   ]
  },
  {
   "cell_type": "code",
   "execution_count": null,
   "id": "d17d4d31-b1e8-45d1-a73f-e508ca7213ce",
   "metadata": {},
   "outputs": [],
   "source": [
    "df_p21.plot(kind='kde', ylim=(0,0.015), xlim=(1150,1799), xlabel='date', title=\"Absence du pronom démonstratif 'ce'\", figsize=(10,5), grid=True, colormap='rainbow')\n",
    "\n",
    "df_p21.plot(kind='hist', grid=True, colormap='rainbow', figsize=(10,5))\n",
    "\n",
    "df_p21.plot(kind='box', grid=True, colormap='rainbow', figsize=(10,5), patch_artist=True)"
   ]
  },
  {
   "cell_type": "code",
   "execution_count": null,
   "id": "6ff642ec-da94-42a9-9590-ae5acb33cb7c",
   "metadata": {},
   "outputs": [],
   "source": []
  }
 ],
 "metadata": {
  "kernelspec": {
   "display_name": "Python 3 (ipykernel)",
   "language": "python",
   "name": "python3"
  },
  "language_info": {
   "codemirror_mode": {
    "name": "ipython",
    "version": 3
   },
   "file_extension": ".py",
   "mimetype": "text/x-python",
   "name": "python",
   "nbconvert_exporter": "python",
   "pygments_lexer": "ipython3",
   "version": "3.10.4"
  }
 },
 "nbformat": 4,
 "nbformat_minor": 5
}
