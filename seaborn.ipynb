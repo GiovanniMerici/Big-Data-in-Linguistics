{
 "cells": [
  {
   "cell_type": "code",
   "execution_count": null,
   "id": "d5689533-4dfa-45c7-a85b-60a66b1d8622",
   "metadata": {},
   "outputs": [],
   "source": [
    "import pandas as pd\n",
    "import numpy as np\n",
    "import matplotlib.pyplot as plt\n",
    "df = pd.read_excel ('BFMpourque.xlsx')\n",
    "import seaborn as sns\n",
    "sns.set_theme()\n",
    "sns.set_color_codes()\n",
    "sns.histplot(df['Date'],color='g')\n",
    "plt.legend(labels=[\"trial1\"], title = \"Legend of the gods\", fontsize = 'large', title_fontsize = \"10\", loc = 2, bbox_to_anchor = (1,1))"
   ]
  },
  {
   "cell_type": "markdown",
   "id": "a778f5ad-c74e-4add-8f1f-a0176dbd307d",
   "metadata": {},
   "source": [
    "Demo of functs"
   ]
  },
  {
   "cell_type": "code",
   "execution_count": null,
   "id": "3bc5fba1-a09a-4c7f-bb1e-9aae1b4571dc",
   "metadata": {},
   "outputs": [],
   "source": [
    "sns.set(rc={'figure.figsize':(20,10)})\n",
    "sns.distplot(df['Date'], color='r').set(title='Title of a plot')\n",
    "sns.kdeplot(df['Date'], color='b')\n",
    "plt.legend(labels=[\"trial1\"], title = \"Legend of the gods\", fontsize = 'large', title_fontsize = \"10\", loc = 2, bbox_to_anchor = (1,1))\n",
    "plt.ylim(0,0.008)\n",
    "plt.xlim(1000,1800)\n",
    "plt.xticks(np.arange(1000,1800,50))\n",
    "plt.savefig('seaborn.png', dpi=1080)"
   ]
  },
  {
   "cell_type": "code",
   "execution_count": null,
   "id": "f7696dcd-53a7-4f41-8e84-df3c2f7fc5a5",
   "metadata": {},
   "outputs": [],
   "source": [
    "sns.rugplot(df['Date'], color='r').set(title='Title of a plot')\n",
    "sns.histplot(df['Date'], color='b')\n",
    "plt.legend(labels=[\"trial1\"], title = \"Legend of the gods\", fontsize = 'large', title_fontsize = \"10\", loc = 2, bbox_to_anchor = (1,1))"
   ]
  },
  {
   "cell_type": "markdown",
   "id": "486735f4-dd16-4f9a-9650-ca76b4e96855",
   "metadata": {},
   "source": [
    "different Dataframes"
   ]
  },
  {
   "cell_type": "code",
   "execution_count": null,
   "id": "f702ac1b-06c7-465f-b76b-ab4ae30b7df4",
   "metadata": {},
   "outputs": [],
   "source": [
    "sns.distplot(df_pqe['Date'], color='r').set(title='Title of a plot')\n",
    "sns.distplot(df_pqap['Date'], color='b')\n",
    "plt.legend(labels=[\"pqe\",'pqap'], title = \"Legend of the gods\", fontsize = 'large', title_fontsize = \"10\", loc = 2, bbox_to_anchor = (1,1))"
   ]
  }
 ],
 "metadata": {
  "kernelspec": {
   "display_name": "Python 3",
   "language": "python",
   "name": "python3"
  },
  "language_info": {
   "codemirror_mode": {
    "name": "ipython",
    "version": 3
   },
   "file_extension": ".py",
   "mimetype": "text/x-python",
   "name": "python",
   "nbconvert_exporter": "python",
   "pygments_lexer": "ipython3",
   "version": "3.8.8"
  }
 },
 "nbformat": 4,
 "nbformat_minor": 5
}
